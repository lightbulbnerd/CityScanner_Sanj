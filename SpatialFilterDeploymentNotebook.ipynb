{
 "cells": [
  {
   "cell_type": "code",
   "execution_count": 10,
   "metadata": {},
   "outputs": [],
   "source": [
    "#libraries\n",
    "import matplotlib.pyplot as plt\n",
    "from shapely.geometry import Point\n",
    "import numpy as np\n",
    "import folium\n",
    "import pandas as pd\n",
    "import json\n",
    "from folium import plugins\n",
    "import pytz\n",
    "import ipywidgets as widgets \n",
    "import datetime\n",
    "\n",
    "\n",
    "#libraries for hotspots specifically\n",
    "from sklearn.cluster import DBSCAN\n",
    "from geopy.distance import great_circle\n",
    "from shapely.geometry import MultiPoint"
   ]
  },
  {
   "cell_type": "code",
   "execution_count": 48,
   "metadata": {},
   "outputs": [
    {
     "name": "stdout",
     "output_type": "stream",
     "text": [
      "Data read!\n"
     ]
    }
   ],
   "source": [
    "#set timezone\n",
    "tz = pytz.timezone('US/Eastern')\n",
    "\n",
    "\n",
    "##### \n",
    "#NOTE - please replace \"aq\" below this comment with database call or your own file! \n",
    "####\n",
    "aq = \"AQ_orgfid.csv\"\n",
    "data = pd.read_csv(aq, engine='python')\n",
    "print(\"Data read!\")\n",
    "\n",
    "#need to drop all rows with lat, long pr pm2.5 = 0\n",
    "data = data.loc[(data[['lat', 'long', 'pm25']] != 0).all(axis=1)]\n",
    "\n",
    "latavg = data[\"lat\"].mean()\n",
    "#print(latavg)\n",
    "longavg = data[\"long\"].mean()\n",
    "#print(longavg)\n",
    "\n",
    "#and grab only pm2.5 values >100 like the R code \n",
    "data = data.loc[(data['pm25'] > 100)]\n",
    "data = data.loc[(data['lat'] > (latavg-5))]\n",
    "data = data.loc[(data['long'] > (longavg-5))]\n",
    "data = data.loc[(data['lat'] < (latavg+5))]\n",
    "data = data.loc[(data['long'] < (longavg+5))]\n",
    "\n",
    "                                        \n",
    "#use the locations of the hotspot clusters to determine where the map displays\n",
    "#from Canada deployment data code in CityScanner github\n",
    "def get_centermost_point(cluster):\n",
    "    centroid = (MultiPoint(cluster).centroid.x, MultiPoint(cluster).centroid.y)\n",
    "    centermost_point = min(cluster, key=lambda point: great_circle(point, centroid).m)\n",
    "    return tuple(centermost_point)\n",
    "\n",
    "#this allows the code to be used for any deployment instead of being tied to one lat/long location\n",
    "\n",
    "coords = data.loc[:,['lat','long']].values\n",
    "start_point=coords[0]"
   ]
  },
  {
   "cell_type": "code",
   "execution_count": 49,
   "metadata": {},
   "outputs": [],
   "source": [
    "#setting up the specifications for the map\n",
    "bronxMap = folium.Map(location= start_point, tiles='Stamen Terrain', zoom_start=14)\n",
    "\n",
    "#creating the hotspots on the map\n",
    "for i,row in data.iterrows():\n",
    "    folium.CircleMarker((row.lat,row.long), radius=10, weight=2, color='red', fill_color='red', fill_opacity=.5).add_to(bronxMap)\n",
    "\n",
    "#saving an html version of the map users can zoom in and out of and interact with\n",
    "bronxMap.save('bronxPointMap.html')"
   ]
  },
  {
   "cell_type": "code",
   "execution_count": 13,
   "metadata": {},
   "outputs": [
    {
     "name": "stderr",
     "output_type": "stream",
     "text": [
      "/Users/sanjanapaul/anaconda3/lib/python3.7/site-packages/ipykernel_launcher.py:9: FutureWarning: Method .as_matrix will be removed in a future version. Use .values instead.\n",
      "  if __name__ == '__main__':\n",
      "/Users/sanjanapaul/anaconda3/lib/python3.7/site-packages/ipykernel_launcher.py:9: FutureWarning: Method `add_children` is deprecated. Please use `add_child` instead.\n",
      "  if __name__ == '__main__':\n"
     ]
    }
   ],
   "source": [
    "#setting up the specifications for the map\n",
    "bronxMap = folium.Map(location=start_point, tiles='Stamen Terrain', zoom_start=14)\n",
    "\n",
    "#creating the hotspots on the map\n",
    "for i,row in data.iterrows():\n",
    "    folium.CircleMarker((row.lat,row.long), radius=10, weight=2, color='red', fill_color='red', fill_opacity=.5).add_to(bronxMap)\n",
    "\n",
    "#adding heatmap functionality\n",
    "bronxMap.add_children(plugins.HeatMap(data[['lat', 'long']].as_matrix(), radius=25))\n",
    "\n",
    "#saving an html version of the map users can zoom in and out of and interact with\n",
    "bronxMap.save('bronxHeatmap.html')"
   ]
  },
  {
   "cell_type": "code",
   "execution_count": 14,
   "metadata": {},
   "outputs": [
    {
     "name": "stdout",
     "output_type": "stream",
     "text": [
      "Number of clusters: 8\n"
     ]
    }
   ],
   "source": [
    "hotspots = data \n",
    "coords = hotspots.loc[:,['lat','long']].values\n",
    "\n",
    "#preprocessing for hotspot clustering. From Canada deployment code in GitHub\n",
    "kms_per_radian = 6371.0088\n",
    "epsilon = 0.1 / kms_per_radian\n",
    "db = DBSCAN(eps=epsilon, min_samples=10, algorithm='ball_tree', metric='haversine').fit(np.radians(coords))\n",
    "cluster_labels = db.labels_\n",
    "num_clusters = len(set(cluster_labels))-(1 if -1 in set(cluster_labels) else 0)\n",
    "outliers = coords[cluster_labels == -1]\n",
    "\n",
    "#creating the clusers. From Canada deployment code in GitHub\n",
    "clusters = pd.Series([coords[cluster_labels == n] for n in range(num_clusters)])\n",
    "outliers = coords[cluster_labels == -1]\n",
    "print('Number of clusters: {}'.format(num_clusters))\n",
    "\n",
    "centermost_points = clusters.map(get_centermost_point)\n",
    "start_point=centermost_points[0]\n",
    "\n",
    "#setting up the specifications for the map\n",
    "newmap = folium.Map(location= start_point, tiles='Stamen Toner', zoom_start=14)\n",
    "points=[]\n",
    "#add a markers\n",
    "for index, row in hotspots.iterrows():\n",
    "    point=(row['lat'], row['long'])\n",
    "    if point not in points:\n",
    "        new_point=(row['lat'], row['long'])\n",
    "        points.append(new_point)      \n",
    "for rep in centermost_points:\n",
    "    folium.CircleMarker(location=rep, color='blue', fill=True, fill_color='blue',radius=20).add_to(newmap)\n",
    "for each in points:\n",
    "    folium.CircleMarker(location=each, popup='Point:'+str(each), color='red', fill=True, fill_color='red',radius=10).add_to(newmap)\n",
    "    newmap.add_child(folium.LatLngPopup())\n",
    "\n",
    "#interactive html map showing hotspot clusters\n",
    "newmap.save('bronxHotspotMap.html')"
   ]
  },
  {
   "cell_type": "code",
   "execution_count": 30,
   "metadata": {},
   "outputs": [
    {
     "data": {
      "text/plain": [
       "([], 0)"
      ]
     },
     "execution_count": 30,
     "metadata": {},
     "output_type": "execute_result"
    }
   ],
   "source": [
    "from sklearn.cluster import DBSCAN\n",
    "from sklearn.datasets.samples_generator import make_blobs\n",
    "import networkx as nx\n",
    "import scipy.spatial as sp\n",
    "\n",
    "def cluster(data, epsilon, N): #DBSCAN, euclidean distance\n",
    "    db     = DBSCAN(eps=epsilon, min_samples=N).fit(data)\n",
    "    labels = db.labels_ #labels of the found clusters\n",
    "    n_clusters = len(set(labels)) - (1 if -1 in labels else 0) #number of clusters\n",
    "    clusters   = [data[labels == i] for i in range(n_clusters)] #list of clusters\n",
    "    return clusters, n_clusters\n",
    "\n",
    "N = 10000\n",
    "centers = [[1, 1,1], [-1, -1,1], [1, -1,1]]\n",
    "X,_ = make_blobs(n_samples=N, centers=centers, cluster_std=0.4,\n",
    "                            random_state=0)\n",
    "cluster(X,epsilon,N)\n",
    "\n",
    "\n",
    "\n",
    "'''\n",
    "filter out the zeroes and take the average of all the lats and longs (DONE)\n",
    "and then \n",
    "exclude anything more than 5 degrees in any direction? \n",
    "'''"
   ]
  },
  {
   "cell_type": "code",
   "execution_count": 34,
   "metadata": {},
   "outputs": [
    {
     "name": "stdout",
     "output_type": "stream",
     "text": [
      "39.43580682255834\n",
      "-73.87935773177452\n"
     ]
    }
   ],
   "source": [
    "\n"
   ]
  },
  {
   "cell_type": "code",
   "execution_count": null,
   "metadata": {},
   "outputs": [],
   "source": []
  }
 ],
 "metadata": {
  "kernelspec": {
   "display_name": "Python 3",
   "language": "python",
   "name": "python3"
  },
  "language_info": {
   "codemirror_mode": {
    "name": "ipython",
    "version": 3
   },
   "file_extension": ".py",
   "mimetype": "text/x-python",
   "name": "python",
   "nbconvert_exporter": "python",
   "pygments_lexer": "ipython3",
   "version": "3.7.3"
  }
 },
 "nbformat": 4,
 "nbformat_minor": 2
}

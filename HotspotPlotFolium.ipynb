{
 "cells": [
  {
   "cell_type": "code",
   "execution_count": 1,
   "metadata": {},
   "outputs": [],
   "source": [
    "#libraries\n",
    "import matplotlib.pyplot as plt\n",
    "from shapely.geometry import Point\n",
    "import numpy as np\n",
    "import folium\n",
    "import pandas as pd\n",
    "import json\n",
    "from folium import plugins\n",
    "import pytz\n",
    "\n",
    "\n",
    "#libraries for hotspots specifically\n",
    "from sklearn.cluster import DBSCAN\n",
    "from geopy.distance import great_circle\n",
    "from shapely.geometry import MultiPoint"
   ]
  },
  {
   "cell_type": "code",
   "execution_count": 2,
   "metadata": {},
   "outputs": [
    {
     "name": "stdout",
     "output_type": "stream",
     "text": [
      "Data read!\n"
     ]
    }
   ],
   "source": [
    "#read in the data in this block \n",
    "#replace csv read with database call\n",
    "\n",
    "\n",
    "#set timezone\n",
    "tz = pytz.timezone('US/Eastern')\n",
    "\n",
    "\n",
    "### NOTE - please replace csv read below this comment with database call! \n",
    "aq = \"AQ_orgfid.csv\"\n",
    "data = pd.read_csv(aq, engine='python')\n",
    "print(\"Data read!\")\n",
    "\n",
    "#need to drop all rows with lat or long = 0\n",
    "data = data.loc[(data[['lat', 'long', 'pm25']] != 0).all(axis=1)]\n",
    "\n",
    "#and grab only pm2.5 values >100 like the R code \n",
    "data = data.loc[(data['pm25'] > 100)]\n",
    "\n",
    "#use the locations of the hotspot clusters to determine where the map displays\n",
    "#from Canada deployment data code in CityScanner github\n",
    "def get_centermost_point(cluster):\n",
    "    centroid = (MultiPoint(cluster).centroid.x, MultiPoint(cluster).centroid.y)\n",
    "    centermost_point = min(cluster, key=lambda point: great_circle(point, centroid).m)\n",
    "    return tuple(centermost_point)\n",
    "\n",
    "#this allows the code to be used for any deployment instead of being tied to one lat/long location\n",
    "\n",
    "coords = data.loc[:,['lat','long']].values\n",
    "start_point=coords[0]"
   ]
  },
  {
   "cell_type": "code",
   "execution_count": 3,
   "metadata": {},
   "outputs": [],
   "source": [
    "#setting up the specifications for the map\n",
    "bronxMap = folium.Map(location= start_point, tiles='Stamen Terrain', zoom_start=14)\n",
    "\n",
    "#creating the hotspots on the map\n",
    "for i,row in data.iterrows():\n",
    "    folium.CircleMarker((row.lat,row.long), radius=10, weight=2, color='red', fill_color='red', fill_opacity=.5).add_to(bronxMap)\n",
    "\n",
    "#saving an html version of the map users can zoom in and out of and interact with\n",
    "bronxMap.save('bronxPointMap.html')"
   ]
  },
  {
   "cell_type": "code",
   "execution_count": 4,
   "metadata": {},
   "outputs": [
    {
     "name": "stderr",
     "output_type": "stream",
     "text": [
      "/Users/sanjanapaul/anaconda3/lib/python3.7/site-packages/ipykernel_launcher.py:9: FutureWarning: Method .as_matrix will be removed in a future version. Use .values instead.\n",
      "  if __name__ == '__main__':\n",
      "/Users/sanjanapaul/anaconda3/lib/python3.7/site-packages/ipykernel_launcher.py:9: FutureWarning: Method `add_children` is deprecated. Please use `add_child` instead.\n",
      "  if __name__ == '__main__':\n"
     ]
    }
   ],
   "source": [
    "#setting up the specifications for the map\n",
    "bronxMap = folium.Map(location=start_point, tiles='Stamen Terrain', zoom_start=14)\n",
    "\n",
    "#creating the hotspots on the map\n",
    "for i,row in data.iterrows():\n",
    "    folium.CircleMarker((row.lat,row.long), radius=10, weight=2, color='red', fill_color='red', fill_opacity=.5).add_to(bronxMap)\n",
    "\n",
    "#adding heatmap functionality\n",
    "bronxMap.add_children(plugins.HeatMap(data[['lat', 'long']].as_matrix(), radius=25))\n",
    "\n",
    "#saving an html version of the map users can zoom in and out of and interact with\n",
    "bronxMap.save('bronxHeatmap.html')"
   ]
  },
  {
   "cell_type": "code",
   "execution_count": 5,
   "metadata": {},
   "outputs": [
    {
     "ename": "NameError",
     "evalue": "name 'clusters' is not defined",
     "output_type": "error",
     "traceback": [
      "\u001b[0;31m---------------------------------------------------------------------------\u001b[0m",
      "\u001b[0;31mNameError\u001b[0m                                 Traceback (most recent call last)",
      "\u001b[0;32m<ipython-input-5-8edcd5b2b61a>\u001b[0m in \u001b[0;36m<module>\u001b[0;34m\u001b[0m\n\u001b[0;32m----> 1\u001b[0;31m \u001b[0mcentermost_points\u001b[0m \u001b[0;34m=\u001b[0m \u001b[0mclusters\u001b[0m\u001b[0;34m.\u001b[0m\u001b[0mmap\u001b[0m\u001b[0;34m(\u001b[0m\u001b[0mget_centermost_point\u001b[0m\u001b[0;34m)\u001b[0m\u001b[0;34m\u001b[0m\u001b[0;34m\u001b[0m\u001b[0m\n\u001b[0m\u001b[1;32m      2\u001b[0m \u001b[0mstart_point\u001b[0m\u001b[0;34m=\u001b[0m\u001b[0mcentermost_points\u001b[0m\u001b[0;34m[\u001b[0m\u001b[0;36m0\u001b[0m\u001b[0;34m]\u001b[0m\u001b[0;34m\u001b[0m\u001b[0;34m\u001b[0m\u001b[0m\n\u001b[1;32m      3\u001b[0m \u001b[0;34m\u001b[0m\u001b[0m\n\u001b[1;32m      4\u001b[0m \u001b[0mhotspots\u001b[0m \u001b[0;34m=\u001b[0m \u001b[0mdata\u001b[0m\u001b[0;34m\u001b[0m\u001b[0;34m\u001b[0m\u001b[0m\n\u001b[1;32m      5\u001b[0m \u001b[0mcoords\u001b[0m \u001b[0;34m=\u001b[0m \u001b[0mhotspots\u001b[0m\u001b[0;34m.\u001b[0m\u001b[0mloc\u001b[0m\u001b[0;34m[\u001b[0m\u001b[0;34m:\u001b[0m\u001b[0;34m,\u001b[0m\u001b[0;34m[\u001b[0m\u001b[0;34m'lat'\u001b[0m\u001b[0;34m,\u001b[0m\u001b[0;34m'long'\u001b[0m\u001b[0;34m]\u001b[0m\u001b[0;34m]\u001b[0m\u001b[0;34m.\u001b[0m\u001b[0mvalues\u001b[0m\u001b[0;34m\u001b[0m\u001b[0;34m\u001b[0m\u001b[0m\n",
      "\u001b[0;31mNameError\u001b[0m: name 'clusters' is not defined"
     ]
    }
   ],
   "source": [
    "centermost_points = clusters.map(get_centermost_point)\n",
    "start_point=centermost_points[0]\n",
    "\n",
    "hotspots = data \n",
    "coords = hotspots.loc[:,['lat','long']].values\n",
    "\n",
    "#preprocessing for hotspot clustering. From Canada deployment code in GitHub\n",
    "kms_per_radian = 6371.0088\n",
    "epsilon = 0.1 / kms_per_radian\n",
    "db = DBSCAN(eps=epsilon, min_samples=10, algorithm='ball_tree', metric='haversine').fit(np.radians(coords))\n",
    "cluster_labels = db.labels_\n",
    "num_clusters = len(set(cluster_labels))-(1 if -1 in set(cluster_labels) else 0)\n",
    "outliers = coords[cluster_labels == -1]\n",
    "\n",
    "#creating the clusers. From Canada deployment code in GitHub\n",
    "clusters = pd.Series([coords[cluster_labels == n] for n in range(num_clusters)])\n",
    "outliers = coords[cluster_labels == -1]\n",
    "print('Number of clusters: {}'.format(num_clusters))\n",
    "\n",
    "#setting up the specifications for the map\n",
    "newmap = folium.Map(location= start_point, tiles='Stamen Toner', zoom_start=14)\n",
    "points=[]\n",
    "#add a markers\n",
    "for index, row in hotspots.iterrows():\n",
    "    point=(row['lat'], row['long'])\n",
    "    if point not in points:\n",
    "        new_point=(row['lat'], row['long'])\n",
    "        points.append(new_point)      \n",
    "for rep in centermost_points:\n",
    "    folium.CircleMarker(location=rep, color='blue', fill=True, fill_color='blue',radius=20).add_to(newmap)\n",
    "for each in points:\n",
    "    folium.CircleMarker(location=each, popup='Point:'+str(each), color='red', fill=True, fill_color='red',radius=10).add_to(newmap)\n",
    "    newmap.add_child(folium.LatLngPopup())\n",
    " "
   ]
  },
  {
   "cell_type": "code",
   "execution_count": null,
   "metadata": {},
   "outputs": [],
   "source": [
    "#interactive html map showing hotspot clusters\n",
    "newmap.save('bronxHotspotMap.html')"
   ]
  },
  {
   "cell_type": "code",
   "execution_count": null,
   "metadata": {},
   "outputs": [],
   "source": []
  }
 ],
 "metadata": {
  "kernelspec": {
   "display_name": "Python 3",
   "language": "python",
   "name": "python3"
  },
  "language_info": {
   "codemirror_mode": {
    "name": "ipython",
    "version": 3
   },
   "file_extension": ".py",
   "mimetype": "text/x-python",
   "name": "python",
   "nbconvert_exporter": "python",
   "pygments_lexer": "ipython3",
   "version": "3.7.3"
  }
 },
 "nbformat": 4,
 "nbformat_minor": 2
}

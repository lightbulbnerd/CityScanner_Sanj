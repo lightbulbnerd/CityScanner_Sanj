{
 "cells": [
  {
   "cell_type": "code",
   "execution_count": 3,
   "metadata": {},
   "outputs": [],
   "source": [
    "#libraries\n",
    "import matplotlib.pyplot as plt\n",
    "from shapely.geometry import Point\n",
    "import numpy as np\n",
    "import folium\n",
    "import pandas as pd\n",
    "import json\n",
    "from folium import plugins\n",
    "import pytz\n"
   ]
  },
  {
   "cell_type": "code",
   "execution_count": 14,
   "metadata": {},
   "outputs": [
    {
     "name": "stdout",
     "output_type": "stream",
     "text": [
      "aq read\n"
     ]
    }
   ],
   "source": [
    "#read in the ada \n",
    "\n",
    "#set timezone\n",
    "tz = pytz.timezone('US/Eastern')\n",
    "\n",
    "#so now, have to do all the stuff to get to the cent.csv point in here - read in aq data and clean it. \n",
    "\n",
    "\n",
    "\n",
    "#read in hotspot data\n",
    "aq = \"cent.csv\"\n",
    "data = pd.read_csv(aq, engine='python')\n",
    "print(\"aq read\")\n",
    "\n",
    "\n",
    "#need to make sure the corrected times are then written back into the aq csv "
   ]
  },
  {
   "cell_type": "code",
   "execution_count": 15,
   "metadata": {},
   "outputs": [],
   "source": [
    "with open('map.geojson') as f:\n",
    "    bronxArea = json.load(f)"
   ]
  },
  {
   "cell_type": "code",
   "execution_count": 18,
   "metadata": {},
   "outputs": [],
   "source": [
    "bronxMap = folium.Map(location=[40.8073,-73.9430], tiles='Stamen Toner', zoom_start=9)\n",
    "folium.GeoJson(bronxArea).add_to(bronxMap)\n",
    "for i,row in data.iterrows():\n",
    "    folium.CircleMarker((row.Latitude,row.Longitude), radius=3, weight=2, color='red', fill_color='red', fill_opacity=.5).add_to(bronxMap)"
   ]
  },
  {
   "cell_type": "code",
   "execution_count": 19,
   "metadata": {},
   "outputs": [],
   "source": [
    "bronxMap.save('bronxPointMap.html')"
   ]
  },
  {
   "cell_type": "code",
   "execution_count": 25,
   "metadata": {},
   "outputs": [
    {
     "name": "stderr",
     "output_type": "stream",
     "text": [
      "/Users/sanjanapaul/anaconda3/lib/python3.7/site-packages/ipykernel_launcher.py:7: FutureWarning: Method .as_matrix will be removed in a future version. Use .values instead.\n",
      "  import sys\n",
      "/Users/sanjanapaul/anaconda3/lib/python3.7/site-packages/ipykernel_launcher.py:7: FutureWarning: Method `add_children` is deprecated. Please use `add_child` instead.\n",
      "  import sys\n"
     ]
    }
   ],
   "source": [
    "bronxMap = folium.Map(location=[40.8073,-73.9430], tiles='Stamen Toner', zoom_start=9)\n",
    "folium.GeoJson(bronxArea).add_to(bronxMap)\n",
    "for i,row in data.iterrows():\n",
    "    folium.CircleMarker((row.Latitude,row.Longitude), radius=3, weight=2, color='red', fill_color='red', fill_opacity=.5).add_to(bronxMap)\n",
    "    \n",
    "\n",
    "bronxMap.add_children(plugins.HeatMap(data[['Latitude', 'Longitude']].as_matrix(), radius=25))\n",
    "\n",
    "bronxMap.save('bronxHeatmap.html')"
   ]
  },
  ,
  {
   "cell_type": "code",
   "execution_count": null,
   "metadata": {},
   "outputs": [],
   "source": []
  }
 ],
 "metadata": {
  "kernelspec": {
   "display_name": "Python 3",
   "language": "python",
   "name": "python3"
  },
  "language_info": {
   "codemirror_mode": {
    "name": "ipython",
    "version": 3
   },
   "file_extension": ".py",
   "mimetype": "text/x-python",
   "name": "python",
   "nbconvert_exporter": "python",
   "pygments_lexer": "ipython3",
   "version": "3.7.3"
  }
 },
 "nbformat": 4,
 "nbformat_minor": 2
}
